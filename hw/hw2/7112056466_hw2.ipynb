{
  "nbformat": 4,
  "nbformat_minor": 0,
  "metadata": {
    "colab": {
      "provenance": [],
      "gpuType": "T4"
    },
    "kernelspec": {
      "name": "python3",
      "display_name": "Python 3"
    },
    "language_info": {
      "name": "python"
    },
    "accelerator": "GPU"
  },
  "cells": [
    {
      "cell_type": "markdown",
      "source": [
        "# Homework2:模型優化"
      ],
      "metadata": {
        "id": "LGJszyrPdZsu"
      }
    },
    {
      "cell_type": "markdown",
      "source": [
        "說明:以下是一個簡易的使用cnn進行CIFAR-10資料集的實作\n",
        "\n",
        "* 請基於以下的code完成作業，epoch最多可以調整到15，**若超過扣50分**\n",
        "* 此作業專注在課堂上提到的優化技巧，請在不調整epoch以外的原本超參數設定的情況下(刪減卷積層數量、神經元數量、batch size等等)完成模型的優化,**若調整扣50分**\n",
        "* 請使用Data Augmentation、L1 or L2 Regularization、Dropout和Batch Normalization、EarlyStopping的方法來完成\n",
        "* 可以自行調整L1 or L2 Regularization、Dropout和Batch Normalization的參數\n",
        "* 請不要刪除文字說明,**違者-10分**\n",
        "* 若同學的實作方法跟我們提供的順序不一樣的話，請詳細說明在哪個區塊實作，以避免扣分\n",
        "* 請同學善用markdown或是註解來標示出自己的實作方法，以利批改"
      ],
      "metadata": {
        "id": "QOufeB2Idld6"
      }
    },
    {
      "cell_type": "code",
      "execution_count": 1,
      "metadata": {
        "id": "rwniaxFz5klb"
      },
      "outputs": [],
      "source": [
        "import torch\n",
        "import torch.nn as nn\n",
        "import numpy as np\n",
        "import random\n",
        "import torch.optim as optim\n",
        "import torch.nn.functional as F\n",
        "import torchvision\n",
        "import torchvision.transforms as transforms\n",
        "from torch.utils.data import DataLoader\n",
        "import matplotlib.pyplot as plt"
      ]
    },
    {
      "cell_type": "code",
      "source": [
        "device = torch.device('cuda' if torch.cuda.is_available() else 'cpu')\n"
      ],
      "metadata": {
        "id": "LwiB8DbM6mC4"
      },
      "execution_count": 2,
      "outputs": []
    },
    {
      "cell_type": "code",
      "source": [
        "# 使用隨機種子\n",
        "def set_random_seed(seed):\n",
        "    random.seed(seed)\n",
        "    np.random.seed(seed)\n",
        "    torch.manual_seed(seed)\n",
        "    torch.cuda.manual_seed(seed)\n",
        "    torch.cuda.manual_seed_all(seed)\n",
        "    torch.backends.cudnn.deterministic = True\n",
        "    torch.backends.cudnn.benchmark = False\n",
        "\n",
        "set_random_seed(1)  # 固定隨機種子，不可更改"
      ],
      "metadata": {
        "id": "AS6pFhXmQTAn"
      },
      "execution_count": 3,
      "outputs": []
    },
    {
      "cell_type": "markdown",
      "source": [
        "1.Data Augmentation(20分)"
      ],
      "metadata": {
        "id": "cG66Nf4FjKJA"
      }
    },
    {
      "cell_type": "code",
      "source": [
        "transform = transforms.Compose([\n",
        "    # transforms.RandomVerticalFlip(),\n",
        "    transforms.RandomHorizontalFlip(), #\n",
        "    transforms.ToTensor(),  # 僅轉換為tensor\n",
        "    transforms.Normalize((0.5, ), (0.5, ))\n",
        "])\n"
      ],
      "metadata": {
        "id": "P3aGeQ1W6nQI"
      },
      "execution_count": 4,
      "outputs": []
    },
    {
      "cell_type": "code",
      "source": [
        "# 加載 CIFAR-10 原始資料集\n",
        "trainset_full = torchvision.datasets.CIFAR10(root='./data', train=True, download=True, transform=transform)\n",
        "\n",
        "# 將訓練集拆分為新的訓練集和驗證集，並固定隨機種子\n",
        "train_size = int(0.8 * len(trainset_full))  # 80% 作為訓練集\n",
        "valid_size = len(trainset_full) - train_size  # 20% 作為驗證集\n",
        "trainset, validset = torch.utils.data.random_split(trainset_full, [train_size, valid_size],\n",
        "                                                   generator=torch.Generator().manual_seed(1))  # 固定隨機種子，不可更改\n",
        "\n",
        "# 創建 DataLoader\n",
        "trainloader = DataLoader(trainset, batch_size=100, shuffle=True, num_workers=2)\n",
        "validloader = DataLoader(validset, batch_size=100, shuffle=False, num_workers=2)\n",
        "\n",
        "# 加載 CIFAR-10 測試集並創建 testloader\n",
        "testset = torchvision.datasets.CIFAR10(root='./data', train=False, download=True, transform=transform)\n",
        "testloader = DataLoader(testset, batch_size=100, shuffle=False, num_workers=2)\n",
        "\n",
        "# print資料集的大小\n",
        "print(f\"原始訓練集大小: {len(trainset_full)}\")\n",
        "print(f\"訓練集大小: {len(trainset)}\")\n",
        "print(f\"驗證集大小: {len(validset)}\")\n",
        "print(f\"測試集大小: {len(testset)}\")\n"
      ],
      "metadata": {
        "colab": {
          "base_uri": "https://localhost:8080/"
        },
        "id": "Ty49fq6I6sch",
        "outputId": "c8d545f2-c7c3-4f04-fe91-169bbef4c390"
      },
      "execution_count": 5,
      "outputs": [
        {
          "output_type": "stream",
          "name": "stdout",
          "text": [
            "Files already downloaded and verified\n",
            "Files already downloaded and verified\n",
            "原始訓練集大小: 50000\n",
            "訓練集大小: 40000\n",
            "驗證集大小: 10000\n",
            "測試集大小: 10000\n"
          ]
        }
      ]
    },
    {
      "cell_type": "markdown",
      "source": [
        "2.Dropout、Batch Normalization(40分)"
      ],
      "metadata": {
        "id": "AU0kPUKkkiGR"
      }
    },
    {
      "cell_type": "code",
      "source": [
        "class SimpleCNN(nn.Module):\n",
        "    def __init__(self):\n",
        "        super(SimpleCNN, self).__init__()\n",
        "        self.conv1 = nn.Conv2d(3, 32, kernel_size=3, padding=1)  # 第一層卷積層\n",
        "        self.conv2 = nn.Conv2d(32, 64, kernel_size=3, padding=1)  # 第二層卷積層\n",
        "\n",
        "        self.conv1_bn = nn.BatchNorm2d(32) # 加上batch normalization\n",
        "        self.conv2_bn = nn.BatchNorm2d(64) # 加上batch normalization\n",
        "\n",
        "        self.pool = nn.MaxPool2d(2, 2)  # 池化層\n",
        "        self.fc1 = nn.Linear(64 * 8 * 8, 512)  # 全連接層1\n",
        "        self.fc2 = nn.Linear(512, 100)  # 全連接層2，對應100類\n",
        "\n",
        "    def forward(self, x):\n",
        "        x = self.pool(F.relu(self.conv1(x)))  # 卷積+ReLU+池化\n",
        "        x = self.pool(F.relu(self.conv2_bn(self.conv2(x))))  # 卷積+ReLU+池化\n",
        "        x = x.view(-1, 64 * 8 * 8)  # 展平輸入\n",
        "        x = F.relu(self.fc1(x))  # 全連接層1+ReLU\n",
        "        x = self.fc2(x)  # 全連接層2 (輸出100類)\n",
        "        return x\n"
      ],
      "metadata": {
        "id": "9wqROOfQ6x5d"
      },
      "execution_count": 6,
      "outputs": []
    },
    {
      "cell_type": "markdown",
      "source": [
        "3.L1 or L2 Regularization(20分)"
      ],
      "metadata": {
        "id": "spMC5SXBknKo"
      }
    },
    {
      "cell_type": "code",
      "source": [
        "net = SimpleCNN().to(device)\n",
        "criterion = nn.CrossEntropyLoss()  # 交叉熵損失\n",
        "optimizer = optim.Adam(net.parameters(), lr=0.001, weight_decay=0.0005)  # Adam優化器\n"
      ],
      "metadata": {
        "id": "XASMTzra61DJ"
      },
      "execution_count": 7,
      "outputs": []
    },
    {
      "cell_type": "markdown",
      "source": [
        "4.完成EarlyStopping的設定，若5個EPOCH都沒有更好的結果，就停止訓練\n",
        "(5分)"
      ],
      "metadata": {
        "id": "NKnmbcxPuwl-"
      }
    },
    {
      "cell_type": "code",
      "source": [
        "import torch\n",
        "\n",
        "class EarlyStopping:\n",
        "    def __init__(self, patience=5, verbose=False, delta=0, path='checkpoint.pt'):\n",
        "        \"\"\"\n",
        "        Args:\n",
        "            patience (int): 提早停止的值。指定多少個 epochs 沒有改善後則停止訓練\n",
        "            verbose (bool): 如果為 True，會在每次有改善時輸出消息\n",
        "            delta (float): 進步的最小幅度\n",
        "            path (str): 保存最佳模型的路徑\n",
        "        \"\"\"\n",
        "        self.patience = patience\n",
        "        self.verbose = verbose\n",
        "        self.counter = 0\n",
        "        self.best_score = None\n",
        "        self.early_stop = False\n",
        "        self.val_loss_min = float('inf')\n",
        "        self.delta = delta\n",
        "        self.path = path\n",
        "\n",
        "    def __call__(self, val_loss):\n",
        "        score = -val_loss\n",
        "\n",
        "        if self.best_score is None:\n",
        "            self.best_score = score\n",
        "        elif score < self.best_score + self.delta:\n",
        "            self.counter += 1\n",
        "            if self.verbose:\n",
        "                print(f'EarlyStopping counter: {self.counter} out of {self.patience}')\n",
        "            if self.counter >= self.patience:\n",
        "                self.early_stop = True\n",
        "        else:\n",
        "            self.best_score = score\n",
        "            self.counter = 0\n",
        "\n",
        "    def save_checkpoint(self, val_loss, model):\n",
        "        '''當發現更好的模型時保存它'''\n",
        "        if self.verbose:\n",
        "            print(f'Validation loss decreased ({self.val_loss_min:.6f} --> {val_loss:.6f}).  Saving model ...')\n",
        "        torch.save(model.state_dict(), self.path)\n",
        "        self.val_loss_min = val_loss\n"
      ],
      "metadata": {
        "id": "2FOFNRziu90x"
      },
      "execution_count": 8,
      "outputs": []
    },
    {
      "cell_type": "markdown",
      "source": [
        "5.train_model增加EarlyStopping的判斷邏輯(5分)"
      ],
      "metadata": {
        "id": "-C2moGl52DOX"
      }
    },
    {
      "cell_type": "code",
      "source": [
        "\n",
        "\n",
        "def train_model(epochs):\n",
        "    train_losses = []\n",
        "    train_accuracies = []\n",
        "    valid_losses = []\n",
        "    valid_accuracies = []\n",
        "    early_stopping = EarlyStopping(patience=5, verbose=True)\n",
        "\n",
        "    for epoch in range(epochs):\n",
        "        running_loss = 0.0\n",
        "        correct = 0\n",
        "        total = 0\n",
        "\n",
        "        # 訓練過程\n",
        "        net.train()\n",
        "        for i, data in enumerate(trainloader, 0):\n",
        "            inputs, labels = data\n",
        "            inputs, labels = inputs.to(device), labels.to(device)\n",
        "\n",
        "            optimizer.zero_grad()\n",
        "            outputs = net(inputs)\n",
        "            loss = criterion(outputs, labels)\n",
        "            loss.backward()\n",
        "            optimizer.step()\n",
        "\n",
        "            running_loss += loss.item()\n",
        "            _, predicted = torch.max(outputs, 1)\n",
        "            total += labels.size(0)\n",
        "            correct += (predicted == labels).sum().item()\n",
        "\n",
        "        # 記錄訓練集的損失和準確率\n",
        "        train_loss = running_loss / len(trainloader)\n",
        "        train_accuracy = 100 * correct / total\n",
        "        train_losses.append(train_loss)\n",
        "        train_accuracies.append(train_accuracy)\n",
        "\n",
        "        # 驗證集評估\n",
        "        net.eval()\n",
        "        valid_loss = 0.0\n",
        "        valid_correct = 0\n",
        "        valid_total = 0\n",
        "        with torch.no_grad():\n",
        "            for data in validloader:\n",
        "                images, labels = data\n",
        "                images, labels = images.to(device), labels.to(device)\n",
        "                outputs = net(images)\n",
        "                loss = criterion(outputs, labels)\n",
        "                valid_loss += loss.item()\n",
        "                _, predicted = torch.max(outputs, 1)\n",
        "                valid_total += labels.size(0)\n",
        "                valid_correct += (predicted == labels).sum().item()\n",
        "\n",
        "        valid_loss = valid_loss / len(validloader)\n",
        "        valid_accuracy = 100 * valid_correct / valid_total\n",
        "        valid_losses.append(valid_loss)\n",
        "        valid_accuracies.append(valid_accuracy)\n",
        "\n",
        "        print(f'[Epoch {epoch+1}/{epochs}] Train loss: {train_loss:.4f}, Train accuracy: {train_accuracy:.2f}% | Validation loss: {valid_loss:.4f}, Validation accuracy: {valid_accuracy:.2f}%')\n",
        "\n",
        "        early_stopping(valid_loss)\n",
        "\n",
        "        if early_stopping.early_stop:\n",
        "          print(\"Early stopping\")\n",
        "          break\n",
        "\n",
        "    print('Finished Training')\n",
        "\n",
        "    return train_losses, train_accuracies, valid_losses, valid_accuracies\n"
      ],
      "metadata": {
        "id": "vIl-1cCM63uN"
      },
      "execution_count": 9,
      "outputs": []
    },
    {
      "cell_type": "code",
      "source": [
        "def test_model():\n",
        "    correct = 0\n",
        "    total = 0\n",
        "    with torch.no_grad():\n",
        "        for data in testloader:\n",
        "            images, labels = data\n",
        "            images, labels = images.to(device), labels.to(device)\n",
        "            outputs = net(images)\n",
        "            _, predicted = torch.max(outputs, 1)\n",
        "            total += labels.size(0)\n",
        "            correct += (predicted == labels).sum().item()\n",
        "\n",
        "    print(f'Accuracy on the 10000 test images: {100 * correct / total:.2f}%')\n"
      ],
      "metadata": {
        "id": "8O89sWvF7DAF"
      },
      "execution_count": 10,
      "outputs": []
    },
    {
      "cell_type": "code",
      "source": [
        "def plot_metrics(train_losses, train_accuracies, valid_losses, valid_accuracies):\n",
        "    epochs = range(1, len(train_losses) + 1)\n",
        "\n",
        "    # 損失圖表\n",
        "    plt.figure(figsize=(12, 5))\n",
        "\n",
        "    plt.subplot(1, 2, 1)\n",
        "    plt.plot(epochs, train_losses, 'bo-', label='Training Loss')\n",
        "    plt.plot(epochs, valid_losses, 'ro-', label='Validation Loss')\n",
        "    plt.title('Training and Validation Loss')\n",
        "    plt.xlabel('Epochs')\n",
        "    plt.ylabel('Loss')\n",
        "    plt.legend()\n",
        "\n",
        "    # 準確率圖表\n",
        "    plt.subplot(1, 2, 2)\n",
        "    plt.plot(epochs, train_accuracies, 'bo-', label='Training Accuracy')\n",
        "    plt.plot(epochs, valid_accuracies, 'ro-', label='Validation Accuracy')\n",
        "    plt.title('Training and Validation Accuracy')\n",
        "    plt.xlabel('Epochs')\n",
        "    plt.ylabel('Accuracy (%)')\n",
        "    plt.legend()\n",
        "\n",
        "    plt.show()\n"
      ],
      "metadata": {
        "id": "mirBt3Yv9rhN"
      },
      "execution_count": 11,
      "outputs": []
    },
    {
      "cell_type": "code",
      "source": [
        "# 訓練模型並獲取損失與準確率\n",
        "train_losses, train_accuracies, valid_losses, valid_accuracies = train_model(epochs=15)#epochs最多可以調整到15\n",
        "\n",
        "# 繪製圖表\n",
        "plot_metrics(train_losses, train_accuracies, valid_losses, valid_accuracies)"
      ],
      "metadata": {
        "colab": {
          "base_uri": "https://localhost:8080/",
          "height": 871
        },
        "id": "TyobsbHj7Ghq",
        "outputId": "dbb39ecf-938e-48cf-ad00-e6fcd091b68e"
      },
      "execution_count": 12,
      "outputs": [
        {
          "output_type": "stream",
          "name": "stdout",
          "text": [
            "[Epoch 1/15] Train loss: 1.3843, Train accuracy: 51.53% | Validation loss: 1.1147, Validation accuracy: 59.41%\n",
            "[Epoch 2/15] Train loss: 0.9837, Train accuracy: 64.89% | Validation loss: 0.9591, Validation accuracy: 66.06%\n",
            "[Epoch 3/15] Train loss: 0.8511, Train accuracy: 70.06% | Validation loss: 0.8523, Validation accuracy: 70.43%\n",
            "[Epoch 4/15] Train loss: 0.7680, Train accuracy: 72.95% | Validation loss: 0.8370, Validation accuracy: 71.49%\n",
            "[Epoch 5/15] Train loss: 0.7018, Train accuracy: 75.44% | Validation loss: 0.7629, Validation accuracy: 73.55%\n",
            "[Epoch 6/15] Train loss: 0.6495, Train accuracy: 77.16% | Validation loss: 0.8259, Validation accuracy: 72.02%\n",
            "EarlyStopping counter: 1 out of 5\n",
            "[Epoch 7/15] Train loss: 0.6089, Train accuracy: 78.73% | Validation loss: 0.7493, Validation accuracy: 74.02%\n",
            "[Epoch 8/15] Train loss: 0.5664, Train accuracy: 80.40% | Validation loss: 0.7455, Validation accuracy: 74.51%\n",
            "[Epoch 9/15] Train loss: 0.5376, Train accuracy: 81.06% | Validation loss: 0.7215, Validation accuracy: 74.99%\n",
            "[Epoch 10/15] Train loss: 0.5006, Train accuracy: 82.51% | Validation loss: 0.7456, Validation accuracy: 74.41%\n",
            "EarlyStopping counter: 1 out of 5\n",
            "[Epoch 11/15] Train loss: 0.4728, Train accuracy: 83.39% | Validation loss: 0.7532, Validation accuracy: 74.88%\n",
            "EarlyStopping counter: 2 out of 5\n",
            "[Epoch 12/15] Train loss: 0.4437, Train accuracy: 84.72% | Validation loss: 0.7679, Validation accuracy: 74.26%\n",
            "EarlyStopping counter: 3 out of 5\n",
            "[Epoch 13/15] Train loss: 0.4257, Train accuracy: 85.00% | Validation loss: 0.7168, Validation accuracy: 75.85%\n",
            "[Epoch 14/15] Train loss: 0.4001, Train accuracy: 85.83% | Validation loss: 0.7007, Validation accuracy: 76.57%\n",
            "[Epoch 15/15] Train loss: 0.3790, Train accuracy: 86.91% | Validation loss: 0.7271, Validation accuracy: 76.57%\n",
            "EarlyStopping counter: 1 out of 5\n",
            "Finished Training\n"
          ]
        },
        {
          "output_type": "display_data",
          "data": {
            "text/plain": [
              "<Figure size 1200x500 with 2 Axes>"
            ],
            "image/png": "[encoded data removed]"
          },
          "metadata": {}
        }
      ]
    },
    {
      "cell_type": "markdown",
      "source": [
        "6.經過您改進的方法後,模型在測試集的Accuracy達到73.9%或以上(10分)"
      ],
      "metadata": {
        "id": "3-NljYufdn6u"
      }
    },
    {
      "cell_type": "code",
      "source": [
        "# 測試模型\n",
        "test_model()"
      ],
      "metadata": {
        "colab": {
          "base_uri": "https://localhost:8080/"
        },
        "id": "FEugdt_mAY0K",
        "outputId": "fdba5512-6f38-4c7f-9000-ff07865b1e67"
      },
      "execution_count": 13,
      "outputs": [
        {
          "output_type": "stream",
          "name": "stdout",
          "text": [
            "Accuracy on the 10000 test images: 76.73%\n"
          ]
        }
      ]
    }
  ]
}